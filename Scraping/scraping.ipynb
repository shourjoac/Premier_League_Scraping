{
 "cells": [
  {
   "cell_type": "code",
   "execution_count": 104,
   "metadata": {},
   "outputs": [],
   "source": [
    "#import statements\n",
    "import requests\n",
    "from bs4 import BeautifulSoup\n",
    "import pandas as pd"
   ]
  },
  {
   "cell_type": "code",
   "execution_count": 105,
   "metadata": {},
   "outputs": [],
   "source": [
    "#scraping the parent page using requests and parsing the html text using beautiful soup\n",
    "standings_url = \"https://fbref.com/en/comps/9/Premier-League-Stats\"\n",
    "html_for_page = requests.get(standings_url)\n",
    "soup = BeautifulSoup(html_for_page.text)\n",
    "parentTable = soup.select('table.stats_table')[0]\n",
    "parentTable"
   ]
  },
  {
   "cell_type": "code",
   "execution_count": 106,
   "metadata": {},
   "outputs": [],
   "source": [
    "teams_list = parentTable.find_all('a')\n",
    "teams_list\n",
    "teams_url = [l.get('href') for l in teams_list]\n",
    "teams_url = [l for l in teams_url if '/squads/' in l]\n",
    "urls = [f\"https://fbref.com{l}\" for l in teams_url]\n",
    "urls"
   ]
  },
  {
   "cell_type": "code",
   "execution_count": 107,
   "metadata": {},
   "outputs": [],
   "source": [
    "#extracting match stats using pandas and requests\n",
    "data = requests.get(urls[0])\n",
    "scores_table = pd.read_html(data.text, match='Scores & Fixtures')[0]\n",
    "#extracting shooting stats using pandas and requests\n",
    "soup = BeautifulSoup(data.text)\n",
    "team_data = soup.find_all('a')\n",
    "fresh_data= [team.get('href')for team in team_data]\n",
    "fresh_data = [l for l in fresh_data if l and 'all_comps/shooting/' in l]\n",
    "fresh_data = [f\"https://fbref.com{l}\" for l in fresh_data]\n",
    "data = requests.get(fresh_data[0])\n",
    "shooting_table = pd.read_html(data.text, match='Shooting')[0]\n",
    "shooting_table"
   ]
  },
  {
   "cell_type": "code",
   "execution_count": 108,
   "metadata": {},
   "outputs": [],
   "source": [
    "#merging and cleaning the scraped data\n",
    "shooting_table.columns = shooting_table.columns.droplevel()\n",
    "team_data = scores_table.merge(shooting_table[[\"Date\", \"Sh\", \"SoT\", \"Dist\", \"FK\", \"PK\", \"PKatt\"]], on=\"Date\")"
   ]
  },
  {
   "cell_type": "code",
   "execution_count": 109,
   "metadata": {},
   "outputs": [],
   "source": [
    "#now we scrape data for multiple teams across multiple seasons\n",
    "years = list(range(2022, 2020, -1))\n",
    "all_matches = []\n",
    "standings_url = \"https://fbref.com/en/comps/9/Premier-League-Stats\""
   ]
  },
  {
   "cell_type": "code",
   "execution_count": null,
   "metadata": {},
   "outputs": [],
   "source": [
    "import time\n",
    "for year in years:\n",
    "    data = requests.get(standings_url)\n",
    "    soup = BeautifulSoup(data.text)\n",
    "    standings_table = soup.select('table.stats_table')[0]\n",
    "    links = [l.get(\"href\") for l in standings_table.find_all('a')]\n",
    "    links = [l for l in links if '/squads/' in l]\n",
    "    team_urls = [f\"https://fbref.com{l}\" for l in links]\n",
    "\n",
    "    previous_season = soup.select(\"a.prev\")[0].get(\"href\")\n",
    "    standings_url = f\"https://fbref.com{previous_season}\"\n",
    "\n",
    "    for team_url in team_urls:\n",
    "        team_name = team_url.split(\"/\")[-1].replace(\"-Stats\", \"\").replace(\"-\", \" \")\n",
    "        data = requests.get(team_url)\n",
    "        matches = pd.read_html(data.text, match=\"Scores & Fixtures\")[0]\n",
    "        soup = BeautifulSoup(data.text)\n",
    "        links = [l.get(\"href\") for l in soup.find_all('a')]\n",
    "        links = [l for l in links if l and 'all_comps/shooting/' in l]\n",
    "        data = requests.get(f\"https://fbref.com{links[0]}\")\n",
    "        shooting = pd.read_html(data.text, match=\"Shooting\")[0]\n",
    "        shooting.columns = shooting.columns.droplevel()\n",
    "        try:\n",
    "            team_data = matches.merge(shooting[[\"Date\", \"Sh\", \"SoT\", \"Dist\", \"FK\", \"PK\", \"PKatt\"]], on=\"Date\")\n",
    "        except ValueError:\n",
    "            continue\n",
    "        team_data = team_data[team_data[\"Comp\"] == \"Premier League\"]\n",
    "\n",
    "        team_data[\"Season\"] = year\n",
    "        team_data[\"Team\"] = team_name\n",
    "        all_matches.append(team_data)\n",
    "        time.sleep(5)"
   ]
  },
  {
   "cell_type": "code",
   "execution_count": 112,
   "metadata": {},
   "outputs": [],
   "source": [
    "#formimg the final csv file after scraping the file\n",
    "match_df = pd.concat(all_matches)\n",
    "match_df.columns = [c.lower() for c in match_df.columns]\n",
    "match_df.to_csv(\"matches.csv\")"
   ]
  }
 ],
 "metadata": {
  "kernelspec": {
   "display_name": "Python 3",
   "language": "python",
   "name": "python3"
  },
  "language_info": {
   "codemirror_mode": {
    "name": "ipython",
    "version": 3
   },
   "file_extension": ".py",
   "mimetype": "text/x-python",
   "name": "python",
   "nbconvert_exporter": "python",
   "pygments_lexer": "ipython3",
   "version": "3.11.0"
  }
 },
 "nbformat": 4,
 "nbformat_minor": 2
}
